{
  "nbformat": 4,
  "nbformat_minor": 0,
  "metadata": {
    "colab": {
      "provenance": []
    },
    "kernelspec": {
      "name": "python3",
      "display_name": "Python 3"
    },
    "language_info": {
      "name": "python"
    }
  },
  "cells": [
    {
      "cell_type": "markdown",
      "source": [
        "# pytorch workflow\n",
        "\n",
        "Exploring an end-to-end workflow"
      ],
      "metadata": {
        "id": "uWjC6rrMiFdt"
      }
    },
    {
      "cell_type": "code",
      "source": [
        "scheme = {1: \"preparing and loading data\",\n",
        "          2: \"build model\",\n",
        "          3: \"Training\",\n",
        "          4: \"making predications\",\n",
        "          5: \"saving and loading\",\n",
        "          6: \"putting all together\"}"
      ],
      "metadata": {
        "id": "mO0ZylWMijX1"
      },
      "execution_count": null,
      "outputs": []
    },
    {
      "cell_type": "code",
      "source": [
        "import torch\n",
        "from torch import nn\n",
        "import matplotlib.pyplot as plt\n",
        "\n",
        "torch.__version__"
      ],
      "metadata": {
        "colab": {
          "base_uri": "https://localhost:8080/",
          "height": 35
        },
        "id": "ZXTEuSnnjSLg",
        "outputId": "57ecb796-d383-45a2-989b-44c492bd2124"
      },
      "execution_count": null,
      "outputs": [
        {
          "output_type": "execute_result",
          "data": {
            "text/plain": [
              "'2.3.0+cu121'"
            ],
            "application/vnd.google.colaboratory.intrinsic+json": {
              "type": "string"
            }
          },
          "metadata": {},
          "execution_count": 2
        }
      ]
    },
    {
      "cell_type": "markdown",
      "source": [
        "## 1. preparing and loading data\n",
        "\n",
        "Data can be anything in ML\n",
        "\n",
        "* excel spreadsheet\n",
        "* images of any kind\n",
        "* videos\n",
        "* Audio\n",
        "* DNA\n",
        "\n",
        "ML is a made of;\n",
        " - getting data to be represented numerically\n",
        " - build a model ot learn patterns based on the numerical representations.\n",
        "\n",
        " Lets create some *known data* using `linear regression formula`,\n",
        "\n",
        " we will use the LRF to make a straight line with known **parameters**"
      ],
      "metadata": {
        "id": "tginhH3jkIqE"
      }
    },
    {
      "cell_type": "code",
      "source": [
        "## code linear regression\n",
        "# create known parameters\n",
        "\n",
        "weight = 0.7\n",
        "bias = 0.3\n",
        "\n",
        "# create\n",
        "start = 0\n",
        "end = 1\n",
        "step = 0.02\n",
        "X = torch.arange(start, end, step).unsqueeze(dim=1) ## input(training and test data)\n",
        "print(X.shape)\n",
        "# y = mx + c\n",
        "y = weight * X + bias ## output\n",
        "X[:10], y[:10], X.shape, y.shape"
      ],
      "metadata": {
        "colab": {
          "base_uri": "https://localhost:8080/"
        },
        "id": "inrpVkMDnNre",
        "outputId": "0efcc420-ac19-40e7-8b0d-ac5b2723e2ab"
      },
      "execution_count": null,
      "outputs": [
        {
          "output_type": "stream",
          "name": "stdout",
          "text": [
            "torch.Size([50, 1])\n"
          ]
        },
        {
          "output_type": "execute_result",
          "data": {
            "text/plain": [
              "(tensor([[0.0000],\n",
              "         [0.0200],\n",
              "         [0.0400],\n",
              "         [0.0600],\n",
              "         [0.0800],\n",
              "         [0.1000],\n",
              "         [0.1200],\n",
              "         [0.1400],\n",
              "         [0.1600],\n",
              "         [0.1800]]),\n",
              " tensor([[0.3000],\n",
              "         [0.3140],\n",
              "         [0.3280],\n",
              "         [0.3420],\n",
              "         [0.3560],\n",
              "         [0.3700],\n",
              "         [0.3840],\n",
              "         [0.3980],\n",
              "         [0.4120],\n",
              "         [0.4260]]),\n",
              " torch.Size([50, 1]),\n",
              " torch.Size([50, 1]))"
            ]
          },
          "metadata": {},
          "execution_count": 3
        }
      ]
    },
    {
      "cell_type": "code",
      "source": [
        "len(X), len(y)"
      ],
      "metadata": {
        "colab": {
          "base_uri": "https://localhost:8080/"
        },
        "id": "WFQc-cuEofEh",
        "outputId": "c3414d1e-dd80-4ca5-b65f-b7049c3579e3"
      },
      "execution_count": null,
      "outputs": [
        {
          "output_type": "execute_result",
          "data": {
            "text/plain": [
              "(50, 50)"
            ]
          },
          "metadata": {},
          "execution_count": 4
        }
      ]
    },
    {
      "cell_type": "markdown",
      "source": [
        "## Splitting Data into training and test sets(Important in ML in general)\n",
        "\n",
        "\n",
        "lets create a training and test set with our data"
      ],
      "metadata": {
        "id": "LxC4JmhzpZ0w"
      }
    },
    {
      "cell_type": "code",
      "source": [
        "## create a train : test  split\n",
        "train_split = int(0.8 * len(X))  ## 80% of our input\n",
        "print(train_split)\n",
        "X_train, y_train = X[:train_split], y[:train_split]\n",
        "X_test, y_test = X[train_split:], y[train_split:]\n",
        "\n",
        "len(X_train), len(y_train), len(X_test), len(y_test)\n",
        "\n"
      ],
      "metadata": {
        "colab": {
          "base_uri": "https://localhost:8080/"
        },
        "id": "45yA4sJ-qa4R",
        "outputId": "6fb84b55-9dc2-4435-f8c5-301bb45fd3a1"
      },
      "execution_count": null,
      "outputs": [
        {
          "output_type": "stream",
          "name": "stdout",
          "text": [
            "40\n"
          ]
        },
        {
          "output_type": "execute_result",
          "data": {
            "text/plain": [
              "(40, 40, 10, 10)"
            ]
          },
          "metadata": {},
          "execution_count": 5
        }
      ]
    },
    {
      "cell_type": "markdown",
      "source": [
        "### Visualise our test and training data"
      ],
      "metadata": {
        "id": "CATXtk1Tt4X7"
      }
    },
    {
      "cell_type": "code",
      "source": [
        "def plot_predictions(train_data=X_train, train_labels=y_train,\n",
        "                     test_data=X_test, test_labels=y_test,\n",
        "                     predictions=None):\n",
        "  plt.figure(figsize=(10, 7))\n",
        "\n",
        "  ## plot training Data in blue\n",
        "  plt.scatter(train_data, train_labels, c =\"b\", s=4, label=\"Training Data\")\n",
        "   ## plot testing Data in green\n",
        "  plt.scatter(test_data, test_labels, c =\"g\", s=4, label=\"Testing Data\")\n",
        "\n",
        "  if predictions is not None:\n",
        "    plt.scatter(test_labels, predictions, c=\"r\", s=4, label=\"Predictions\")\n",
        "\n",
        "\n",
        "  plt.legend(prop={\"size\":14})\n",
        "\n",
        "plot_predictions()"
      ],
      "metadata": {
        "colab": {
          "base_uri": "https://localhost:8080/",
          "height": 577
        },
        "id": "QAobjvfguOmA",
        "outputId": "8ac2ccee-228b-4389-e89f-49134d16b2f5"
      },
      "execution_count": null,
      "outputs": [
        {
          "output_type": "display_data",
          "data": {
            "text/plain": [
              "<Figure size 1000x700 with 1 Axes>"
            ],
            "image/png": "[encoded data removed]"
          },
          "metadata": {}
        }
      ]
    },
    {
      "cell_type": "markdown",
      "source": [
        "##2. Build the model\n",
        "First pytorch model\n",
        "\n",
        "what the model does;\n",
        " * start with random values\n",
        " * look at training Data and adjust the random vaues to better represent the ideal values(the weight and bias we used to create the data)\n",
        "\n",
        " ## How does it do so?\n",
        "\n",
        " 1. gradient descent\n",
        " 2. Back propagation"
      ],
      "metadata": {
        "id": "4zl54EXyzGxe"
      }
    },
    {
      "cell_type": "code",
      "source": [
        "# create linear regression model class\n",
        "class LinearRegressionModel(nn.Module): ## everything pytorch inherits from this module\n",
        "  def __init__(self):\n",
        "    super().__init__()\n",
        "    self.weights = nn.Parameter(torch.randn(1, requires_grad = True, dtype=torch.float))\n",
        "    self.bias = nn.Parameter(torch.randn(1, requires_grad = True, dtype=torch.float))\n",
        "\n",
        "\n",
        "  def forward(self, x: torch.Tensor) -> torch.Tensor: # x is the input data\n",
        "    return self.weights * x + self.bias # this is the linear regression formula\n"
      ],
      "metadata": {
        "id": "ehq9CffvzUQE"
      },
      "execution_count": null,
      "outputs": []
    },
    {
      "cell_type": "markdown",
      "source": [
        "### pyTorch model building essentials\n",
        "\n",
        "* torch.nn - contains all buidlings for nn\n",
        "* torch.nn.parameter - what parameters should our models try and learn, often a PyTorch layer from torch.nn will set these for us\n",
        "* torch.nn.Module - the base class for all nn Modules, if inheritted from overwrite forward by writting a new method named foward\n",
        "* torch.optim - this is where our optimisers live, they will help with gradient descent\n",
        "\n",
        " * `def foward(self, x: torch.tensor) -> torch.Tensor:`\n",
        "      `return self.weights * X + self.bias`"
      ],
      "metadata": {
        "id": "alHEsHy7L0IW"
      }
    },
    {
      "cell_type": "code",
      "source": [
        "# Create a random seed\n",
        "\n",
        "RANDOM_SEED = 42\n",
        "torch.manual_seed(RANDOM_SEED)\n",
        "\n",
        "model_0 = LinearRegressionModel()\n",
        "check = list(model_0.parameters())\n",
        "model_0.state_dict()\n",
        "print(f\"we want to go from {model_0.state_dict()} to {weight} and {bias} respectively\")\n",
        "X_test, y_test"
      ],
      "metadata": {
        "colab": {
          "base_uri": "https://localhost:8080/"
        },
        "id": "DxE_XEgfOmS8",
        "outputId": "38f011a1-d673-4d22-a492-1bced98c0d75"
      },
      "execution_count": null,
      "outputs": [
        {
          "output_type": "stream",
          "name": "stdout",
          "text": [
            "we want to go from OrderedDict([('weights', tensor([0.3367])), ('bias', tensor([0.1288]))]) to 0.7 and 0.3 respectively\n"
          ]
        },
        {
          "output_type": "execute_result",
          "data": {
            "text/plain": [
              "(tensor([[0.8000],\n",
              "         [0.8200],\n",
              "         [0.8400],\n",
              "         [0.8600],\n",
              "         [0.8800],\n",
              "         [0.9000],\n",
              "         [0.9200],\n",
              "         [0.9400],\n",
              "         [0.9600],\n",
              "         [0.9800]]),\n",
              " tensor([[0.8600],\n",
              "         [0.8740],\n",
              "         [0.8880],\n",
              "         [0.9020],\n",
              "         [0.9160],\n",
              "         [0.9300],\n",
              "         [0.9440],\n",
              "         [0.9580],\n",
              "         [0.9720],\n",
              "         [0.9860]]))"
            ]
          },
          "metadata": {},
          "execution_count": 8
        }
      ]
    },
    {
      "cell_type": "markdown",
      "source": [
        "## Making predictions with torch.inference_mode()\n",
        "we can check the model's prediction power by seeing how well it predicts y_test based on x_test\n",
        "when we pass data through our model we use the foward method to compute it"
      ],
      "metadata": {
        "id": "-4kCHp4221nH"
      }
    },
    {
      "cell_type": "code",
      "source": [
        "# make predictions with model\n",
        "\n",
        "with torch.inference_mode(): ## wtihout inferernce mode\n",
        "  y_preds = model_0(X_test)\n",
        "X_test"
      ],
      "metadata": {
        "colab": {
          "base_uri": "https://localhost:8080/"
        },
        "id": "30w8UII43fOU",
        "outputId": "2d498cc4-fd39-4ff4-b17f-dfd6737ce85a"
      },
      "execution_count": null,
      "outputs": [
        {
          "output_type": "execute_result",
          "data": {
            "text/plain": [
              "tensor([[0.8000],\n",
              "        [0.8200],\n",
              "        [0.8400],\n",
              "        [0.8600],\n",
              "        [0.8800],\n",
              "        [0.9000],\n",
              "        [0.9200],\n",
              "        [0.9400],\n",
              "        [0.9600],\n",
              "        [0.9800]])"
            ]
          },
          "metadata": {},
          "execution_count": 9
        }
      ]
    },
    {
      "cell_type": "code",
      "source": [
        "plot_predictions(predictions=y_preds)"
      ],
      "metadata": {
        "colab": {
          "base_uri": "https://localhost:8080/",
          "height": 577
        },
        "id": "RF8EJPa_4mRo",
        "outputId": "122e1071-4f50-4db5-d172-1a8bf8c51989"
      },
      "execution_count": null,
      "outputs": [
        {
          "output_type": "display_data",
          "data": {
            "text/plain": [
              "<Figure size 1000x700 with 1 Axes>"
            ],
            "image/png": "[encoded data removed]"
          },
          "metadata": {}
        }
      ]
    },
    {
      "cell_type": "markdown",
      "source": [
        "#3. Training The Model\n",
        "seeing how abysmal the results of our prediction, we will now be training our model to move from some *unknown* parameters(these maybe random) to some *known* parameters\n",
        "i.e. we will be going from a poor representation of data to a more accurate one using a loss function\n",
        "\n",
        "* NOTE:Loss functions maybe called cost functions or criterion in different context.\n",
        "\n",
        "## Things we need to **Train**\n",
        "\n",
        "* ** Loss functions measure how wrong your model's predictions are to the ideal outputs, lower is better\n",
        "* ** optimzer: Takes into account the loss of a model and adjusts the model's patrameters(e.g weight & bias) to imporve the loss function, in PyTorch we need;\n",
        "the optimiser will take in a;\n",
        "  * parameter - This is the parameters that the model has set itself\n",
        "  * LR(learning rate) - This is the rate at which the optimiser changes the parameters with each change to better the predictions step by step\n",
        "* Training Loop\n",
        "* Testing loop\n"
      ],
      "metadata": {
        "id": "3glWCHWbBqYr"
      }
    },
    {
      "cell_type": "code",
      "source": [
        "list(model_0.parameters())"
      ],
      "metadata": {
        "colab": {
          "base_uri": "https://localhost:8080/"
        },
        "id": "L9PA7QsHDDZ_",
        "outputId": "b09870bd-1a94-4c80-e5ac-49403ac0ec77"
      },
      "execution_count": null,
      "outputs": [
        {
          "output_type": "execute_result",
          "data": {
            "text/plain": [
              "[Parameter containing:\n",
              " tensor([0.3367], requires_grad=True),\n",
              " Parameter containing:\n",
              " tensor([0.1288], requires_grad=True)]"
            ]
          },
          "metadata": {},
          "execution_count": 11
        }
      ]
    },
    {
      "cell_type": "code",
      "source": [
        "# check models parameters(value that models sets itself)\n",
        "model_0.state_dict()"
      ],
      "metadata": {
        "colab": {
          "base_uri": "https://localhost:8080/"
        },
        "id": "YovoOj5EDr6u",
        "outputId": "c59fb046-fae4-4542-f23a-71312fca0be3"
      },
      "execution_count": null,
      "outputs": [
        {
          "output_type": "execute_result",
          "data": {
            "text/plain": [
              "OrderedDict([('weights', tensor([0.3367])), ('bias', tensor([0.1288]))])"
            ]
          },
          "metadata": {},
          "execution_count": 12
        }
      ]
    },
    {
      "cell_type": "code",
      "source": [
        "# setup loss function\n",
        "loss_fn = nn.L1Loss()\n",
        "loss_fn\n",
        "# setup optimiser\n",
        "optimser = torch.optim.SGD(params=model_0.parameters(), lr=0.01) ## lr = learninig rate = possibly the most important\n",
        "                                                            ## hyper parameter you can set commonly (0.1)"
      ],
      "metadata": {
        "id": "urDFZiOREkU6"
      },
      "execution_count": null,
      "outputs": []
    },
    {
      "cell_type": "markdown",
      "source": [
        "# building a training - testing loop:\n",
        "0. Loop through the data\n",
        "1. Forward pass (this involves data moving though our model I - O)\n",
        "2. calculate the loss (compare forward pass predictions to ground truth labels)\n",
        "3. Optimizer zero grad\n",
        "4. Loss backward - move backwards through the network to calculate the gradiants of each of the parameters of our model with respect to the loss(**Back propagation**)\n",
        "5. optimiser step - user the optimiser to adjust our model parameters to try and improve"
      ],
      "metadata": {
        "id": "zPi_osGmHsWx"
      }
    },
    {
      "cell_type": "code",
      "source": [
        "epochs = 200 ## an Epoch is one loop through the data\n",
        "epoch_count = []\n",
        "loss_value = []\n",
        "test_loss_value = []\n",
        "\n",
        "## Training segment\n",
        "for epoch in range(epochs):\n",
        "  # set the model to training mode\n",
        "  model_0.train()\n",
        "  # 1. forward pass\n",
        "  y_pred = model_0(X_train) ## learn from training data to better test predictions\n",
        "\n",
        "  # 2. Caluculate the loss\n",
        "  loss = loss_fn(y_pred, y_train) # see how much we missed the predictions by, input, Target\n",
        "  # print(f\"loss:{loss}\")\n",
        "  # 3. optimiser zero grad\n",
        "  optimser.zero_grad()\n",
        "\n",
        "  # 4. perform backpropagation to evalute the loss for each model parameter\n",
        "  loss.backward()\n",
        "\n",
        "  # 5. step the optimiser perform GD\n",
        "  optimser.step()\n",
        "\n",
        "  # FLOLS\n",
        "\n",
        "# TESTING MODE\n",
        "  model_0.eval() ## turns off different settings not needed for evaluating/testing\n",
        "  with torch.inference_mode():\n",
        "    test_pred = model_0(X_test)\n",
        "\n",
        "    # calculate the loss\n",
        "    test_loss = loss_fn(test_pred, y_test)\n",
        "\n",
        "    if epoch % 10 == 0: # display info every ten epoch\n",
        "      epoch_count.append(epoch)\n",
        "      loss_value.append(loss)\n",
        "      test_loss_value.append(test_loss)\n",
        "      print(f\"Epoch: {epoch}, Loss: {loss}, test loss: {test_loss}\")\n",
        "\n",
        "\n",
        "\n",
        "print(f\"{epoch_count}\\n {loss_value}\\n {test_loss_value}\")\n",
        "param = model_0.state_dict()\n"
      ],
      "metadata": {
        "colab": {
          "base_uri": "https://localhost:8080/"
        },
        "id": "u1iR2UHOO546",
        "outputId": "abf41ace-575b-4f47-a444-f2ac7114f4c4"
      },
      "execution_count": null,
      "outputs": [
        {
          "output_type": "stream",
          "name": "stdout",
          "text": [
            "Epoch: 0, Loss: 0.31288138031959534, test loss: 0.48106518387794495\n",
            "Epoch: 10, Loss: 0.1976713240146637, test loss: 0.3463551998138428\n",
            "Epoch: 20, Loss: 0.08908725529909134, test loss: 0.21729660034179688\n",
            "Epoch: 30, Loss: 0.053148526698350906, test loss: 0.14464017748832703\n",
            "Epoch: 40, Loss: 0.04543796554207802, test loss: 0.11360953003168106\n",
            "Epoch: 50, Loss: 0.04167863354086876, test loss: 0.09919948130846024\n",
            "Epoch: 60, Loss: 0.03818932920694351, test loss: 0.08886633068323135\n",
            "Epoch: 70, Loss: 0.03476089984178543, test loss: 0.0805937647819519\n",
            "Epoch: 80, Loss: 0.03132382780313492, test loss: 0.07232122868299484\n",
            "Epoch: 90, Loss: 0.02788739837706089, test loss: 0.06473556160926819\n",
            "Epoch: 100, Loss: 0.024458957836031914, test loss: 0.05646304413676262\n",
            "Epoch: 110, Loss: 0.021020207554101944, test loss: 0.04819049686193466\n",
            "Epoch: 120, Loss: 0.01758546568453312, test loss: 0.04060482233762741\n",
            "Epoch: 130, Loss: 0.014155393466353416, test loss: 0.03233227878808975\n",
            "Epoch: 140, Loss: 0.010716589167714119, test loss: 0.024059748277068138\n",
            "Epoch: 150, Loss: 0.0072835334576666355, test loss: 0.016474086791276932\n",
            "Epoch: 160, Loss: 0.0038517764769494534, test loss: 0.008201557211577892\n",
            "Epoch: 170, Loss: 0.008932482451200485, test loss: 0.005023092031478882\n",
            "Epoch: 180, Loss: 0.008932482451200485, test loss: 0.005023092031478882\n",
            "Epoch: 190, Loss: 0.008932482451200485, test loss: 0.005023092031478882\n",
            "[0, 10, 20, 30, 40, 50, 60, 70, 80, 90, 100, 110, 120, 130, 140, 150, 160, 170, 180, 190]\n",
            " [tensor(0.3129, grad_fn=<MeanBackward0>), tensor(0.1977, grad_fn=<MeanBackward0>), tensor(0.0891, grad_fn=<MeanBackward0>), tensor(0.0531, grad_fn=<MeanBackward0>), tensor(0.0454, grad_fn=<MeanBackward0>), tensor(0.0417, grad_fn=<MeanBackward0>), tensor(0.0382, grad_fn=<MeanBackward0>), tensor(0.0348, grad_fn=<MeanBackward0>), tensor(0.0313, grad_fn=<MeanBackward0>), tensor(0.0279, grad_fn=<MeanBackward0>), tensor(0.0245, grad_fn=<MeanBackward0>), tensor(0.0210, grad_fn=<MeanBackward0>), tensor(0.0176, grad_fn=<MeanBackward0>), tensor(0.0142, grad_fn=<MeanBackward0>), tensor(0.0107, grad_fn=<MeanBackward0>), tensor(0.0073, grad_fn=<MeanBackward0>), tensor(0.0039, grad_fn=<MeanBackward0>), tensor(0.0089, grad_fn=<MeanBackward0>), tensor(0.0089, grad_fn=<MeanBackward0>), tensor(0.0089, grad_fn=<MeanBackward0>)]\n",
            " [tensor(0.4811), tensor(0.3464), tensor(0.2173), tensor(0.1446), tensor(0.1136), tensor(0.0992), tensor(0.0889), tensor(0.0806), tensor(0.0723), tensor(0.0647), tensor(0.0565), tensor(0.0482), tensor(0.0406), tensor(0.0323), tensor(0.0241), tensor(0.0165), tensor(0.0082), tensor(0.0050), tensor(0.0050), tensor(0.0050)]\n"
          ]
        }
      ]
    },
    {
      "cell_type": "code",
      "source": [
        "import numpy as np\n",
        "epoch_count, loss_value, test_loss_value\n",
        "plt.plot(epoch_count, np.array(torch.tensor(loss_value).numpy()), label=\"Train Loss\")\n",
        "plt.plot(epoch_count, test_loss_value, label=\"Test loss\")\n",
        "plt.title(\"Training and Test loss curve\")\n",
        "plt.xlabel(\"epoch\")\n",
        "plt.ylabel(\"loss\")\n",
        "plt.legend(prop={\"size\":14})"
      ],
      "metadata": {
        "colab": {
          "base_uri": "https://localhost:8080/",
          "height": 489
        },
        "id": "CZvJyINoC8Dn",
        "outputId": "c05b08f5-16df-4f03-d7ab-d567161dca4a"
      },
      "execution_count": null,
      "outputs": [
        {
          "output_type": "execute_result",
          "data": {
            "text/plain": [
              "<matplotlib.legend.Legend at 0x798464816fe0>"
            ]
          },
          "metadata": {},
          "execution_count": 15
        },
        {
          "output_type": "display_data",
          "data": {
            "text/plain": [
              "<Figure size 640x480 with 1 Axes>"
            ],
            "image/png": "[encoded data removed]"
          },
          "metadata": {}
        }
      ]
    },
    {
      "cell_type": "markdown",
      "source": [
        "##  FLOLS (Training ♾️ Testing loop)\n",
        "* F - **Forward** propagation\n",
        "* L - Calculate **LOSS**\n",
        "* O  - **Optimize** zero grad to zero out any accumulated inconsistencies\n",
        "* L - **Loss** backward propagation\n",
        "* S - **step** step step"
      ],
      "metadata": {
        "id": "oA1oOfDqzWUY"
      }
    },
    {
      "cell_type": "code",
      "source": [
        "print(f\"{weight}, {bias}, {param}\")\n",
        "with torch.inference_mode():\n",
        "  new_y_preds = model_0(X_test)\n",
        "plot_predictions(predictions=new_y_preds)\n",
        "## FLOLS"
      ],
      "metadata": {
        "colab": {
          "base_uri": "https://localhost:8080/",
          "height": 595
        },
        "id": "qeAYXUdL1y0S",
        "outputId": "7bcf26ec-5d0f-4709-e03e-641090af8b01"
      },
      "execution_count": null,
      "outputs": [
        {
          "output_type": "stream",
          "name": "stdout",
          "text": [
            "0.7, 0.3, OrderedDict([('weights', tensor([0.6990])), ('bias', tensor([0.3093]))])\n"
          ]
        },
        {
          "output_type": "display_data",
          "data": {
            "text/plain": [
              "<Figure size 1000x700 with 1 Axes>"
            ],
            "image/png": "[encoded data removed]"
          },
          "metadata": {}
        }
      ]
    },
    {
      "cell_type": "markdown",
      "source": [
        "## saving models in PyTorch\n",
        "There are two things involved in loading and saving a model;\n",
        "\n",
        "* `torch.save()` - allows us to save a PyTorch object in the python pickle format\n",
        "* `torch.model()` - allows us to load a model we saved in similar model\n",
        "* `torch.nn.Module.load_state_dict()` - allows us to load a model's save dictionary\n"
      ],
      "metadata": {
        "id": "4pumhHm496J-"
      }
    },
    {
      "cell_type": "code",
      "source": [
        "from pathlib import Path\n",
        "\n",
        "# 1. Create models directory\n",
        "def model_saver(path_name, mode_name):\n",
        "  pass\n",
        "\n",
        "MODEL_PATH = Path('models')\n",
        "MODEL_PATH.mkdir(parents=True, exist_ok=True)\n",
        "\n",
        "# 2. Create model save path\n",
        "MODEL_NAME = \"01_pytorch_workflow_model.pth\"\n",
        "MODEL_SAVE_PATH  = MODEL_PATH / MODEL_NAME\n",
        "print(MODEL_SAVE_PATH)\n",
        "\n",
        "# 3. Save mpdel state dictionary\n",
        "print(f\"Saving Model to: {MODEL_SAVE_PATH}\")\n",
        "torch.save(model_0.state_dict(), MODEL_SAVE_PATH)"
      ],
      "metadata": {
        "colab": {
          "base_uri": "https://localhost:8080/"
        },
        "id": "KUuFN4Bb_kSW",
        "outputId": "301cabe6-01c7-4d81-a1ba-d628366a52c1"
      },
      "execution_count": null,
      "outputs": [
        {
          "output_type": "stream",
          "name": "stdout",
          "text": [
            "models/01_pytorch_workflow_model.pth\n",
            "Saving Model to: models/01_pytorch_workflow_model.pth\n"
          ]
        }
      ]
    },
    {
      "cell_type": "code",
      "source": [
        "# Load our model back in\n",
        "untrained_model_instance = LinearRegressionModel()\n",
        "loaded_model = LinearRegressionModel()\n",
        "loaded_model.load_state_dict(torch.load(MODEL_SAVE_PATH))\n",
        "print(f\"Loaded model's trained state:{loaded_model.state_dict()}\\n, Untrained Model: {untrained_model_instance.state_dict()}\")"
      ],
      "metadata": {
        "colab": {
          "base_uri": "https://localhost:8080/"
        },
        "id": "sYyADxDqCF-W",
        "outputId": "162e2640-582c-4685-b1a6-5f09f36a9570"
      },
      "execution_count": null,
      "outputs": [
        {
          "output_type": "stream",
          "name": "stdout",
          "text": [
            "Loaded model's trained state:OrderedDict([('weights', tensor([0.6990])), ('bias', tensor([0.3093]))])\n",
            ", Untrained Model: OrderedDict([('weights', tensor([0.2345])), ('bias', tensor([0.2303]))])\n"
          ]
        }
      ]
    },
    {
      "cell_type": "code",
      "source": [
        "# make predictions using our loaded model\n",
        "\n",
        "device = \"cuda\" if torch.cuda.is_available() else \"cpu\"\n",
        "X_test = X_test.to(device)\n",
        "loaded_model = loaded_model.to(device)\n",
        "loaded_model.eval()\n",
        "with torch.inference_mode():\n",
        " loaded_model_preds = loaded_model(X_test)\n",
        "y_preds, loaded_model_preds"
      ],
      "metadata": {
        "colab": {
          "base_uri": "https://localhost:8080/"
        },
        "id": "pmX_kg7lE4lS",
        "outputId": "0b6696dd-48c2-4f7b-d5ef-9f8348db764b"
      },
      "execution_count": null,
      "outputs": [
        {
          "output_type": "execute_result",
          "data": {
            "text/plain": [
              "(tensor([[0.3982],\n",
              "         [0.4049],\n",
              "         [0.4116],\n",
              "         [0.4184],\n",
              "         [0.4251],\n",
              "         [0.4318],\n",
              "         [0.4386],\n",
              "         [0.4453],\n",
              "         [0.4520],\n",
              "         [0.4588]]),\n",
              " tensor([[0.8685],\n",
              "         [0.8825],\n",
              "         [0.8965],\n",
              "         [0.9105],\n",
              "         [0.9245],\n",
              "         [0.9384],\n",
              "         [0.9524],\n",
              "         [0.9664],\n",
              "         [0.9804],\n",
              "         [0.9944]], device='cuda:0'))"
            ]
          },
          "metadata": {},
          "execution_count": 19
        }
      ]
    },
    {
      "cell_type": "code",
      "source": [
        "model_0.eval()\n",
        "with torch.inference_mode():\n",
        "  model_0 = model_0.to(device)\n",
        "  new_y_preds = model_0(X_test)\n",
        "\n",
        "new_y_preds == loaded_model_preds"
      ],
      "metadata": {
        "colab": {
          "base_uri": "https://localhost:8080/"
        },
        "id": "GZD8g4ObHMrF",
        "outputId": "af1b7cdb-1e71-4ca0-dd8d-f7a0513d6e5b"
      },
      "execution_count": null,
      "outputs": [
        {
          "output_type": "execute_result",
          "data": {
            "text/plain": [
              "tensor([[True],\n",
              "        [True],\n",
              "        [True],\n",
              "        [True],\n",
              "        [True],\n",
              "        [True],\n",
              "        [True],\n",
              "        [True],\n",
              "        [True],\n",
              "        [True]], device='cuda:0')"
            ]
          },
          "metadata": {},
          "execution_count": 20
        }
      ]
    },
    {
      "cell_type": "code",
      "source": [
        "device = \"cuda\" if torch.cuda.is_available() else \"cpu\"\n",
        "print(device)\n",
        "!nvidia-smi"
      ],
      "metadata": {
        "colab": {
          "base_uri": "https://localhost:8080/"
        },
        "id": "XiGpUCSdI1sP",
        "outputId": "6880561c-b065-4a37-eb73-e259db5633b1"
      },
      "execution_count": null,
      "outputs": [
        {
          "output_type": "stream",
          "name": "stdout",
          "text": [
            "cuda\n",
            "Tue May 28 11:40:13 2024       \n",
            "+---------------------------------------------------------------------------------------+\n",
            "| NVIDIA-SMI 535.104.05             Driver Version: 535.104.05   CUDA Version: 12.2     |\n",
            "|-----------------------------------------+----------------------+----------------------+\n",
            "| GPU  Name                 Persistence-M | Bus-Id        Disp.A | Volatile Uncorr. ECC |\n",
            "| Fan  Temp   Perf          Pwr:Usage/Cap |         Memory-Usage | GPU-Util  Compute M. |\n",
            "|                                         |                      |               MIG M. |\n",
            "|=========================================+======================+======================|\n",
            "|   0  Tesla T4                       Off | 00000000:00:04.0 Off |                    0 |\n",
            "| N/A   52C    P0              28W /  70W |    121MiB / 15360MiB |      0%      Default |\n",
            "|                                         |                      |                  N/A |\n",
            "+-----------------------------------------+----------------------+----------------------+\n",
            "                                                                                         \n",
            "+---------------------------------------------------------------------------------------+\n",
            "| Processes:                                                                            |\n",
            "|  GPU   GI   CI        PID   Type   Process name                            GPU Memory |\n",
            "|        ID   ID                                                             Usage      |\n",
            "|=======================================================================================|\n",
            "+---------------------------------------------------------------------------------------+\n"
          ]
        }
      ]
    },
    {
      "cell_type": "code",
      "source": [
        "# RECAP all of chapter 1\n",
        "bias = 0.3\n",
        "weight = 0.7\n",
        "start, end, step = 0, 1, 0.02\n",
        "\n",
        "X = torch.arange(start, end, step).unsqueeze(dim=1)\n",
        "# lrf\n",
        "y = weight * X + bias\n",
        "X[:10], y[:10]"
      ],
      "metadata": {
        "colab": {
          "base_uri": "https://localhost:8080/"
        },
        "id": "O361Ff7YKRxk",
        "outputId": "544a876a-8cef-4241-b3ca-6df323ca9e45"
      },
      "execution_count": null,
      "outputs": [
        {
          "output_type": "execute_result",
          "data": {
            "text/plain": [
              "(tensor([[0.0000],\n",
              "         [0.0200],\n",
              "         [0.0400],\n",
              "         [0.0600],\n",
              "         [0.0800],\n",
              "         [0.1000],\n",
              "         [0.1200],\n",
              "         [0.1400],\n",
              "         [0.1600],\n",
              "         [0.1800]]),\n",
              " tensor([[0.3000],\n",
              "         [0.3140],\n",
              "         [0.3280],\n",
              "         [0.3420],\n",
              "         [0.3560],\n",
              "         [0.3700],\n",
              "         [0.3840],\n",
              "         [0.3980],\n",
              "         [0.4120],\n",
              "         [0.4260]]))"
            ]
          },
          "metadata": {},
          "execution_count": 22
        }
      ]
    },
    {
      "cell_type": "code",
      "source": [
        "train_split = int(0.8 * len(X))\n",
        "X_train, y_train = X[:train_split], y[:train_split]\n",
        "X_test, y_test = X[train_split:], y[train_split:]\n",
        "\n",
        "len(X_train), len(y_train)"
      ],
      "metadata": {
        "colab": {
          "base_uri": "https://localhost:8080/"
        },
        "id": "6pjd-KHyLcCb",
        "outputId": "c6417c24-c5c8-42ae-ba8b-cd8085d027db"
      },
      "execution_count": null,
      "outputs": [
        {
          "output_type": "execute_result",
          "data": {
            "text/plain": [
              "(40, 40)"
            ]
          },
          "metadata": {},
          "execution_count": 23
        }
      ]
    },
    {
      "cell_type": "code",
      "source": [
        "## plot data\n",
        "\n",
        "plot_predictions(X_train, y_train, X_test, y_test)"
      ],
      "metadata": {
        "colab": {
          "base_uri": "https://localhost:8080/",
          "height": 577
        },
        "id": "zFhNWny7MVdo",
        "outputId": "910dc538-8f0d-4fb5-ae37-7cfd4de8fe5b"
      },
      "execution_count": null,
      "outputs": [
        {
          "output_type": "display_data",
          "data": {
            "text/plain": [
              "<Figure size 1000x700 with 1 Axes>"
            ],
            "image/png": "[encoded data removed]"
          },
          "metadata": {}
        }
      ]
    },
    {
      "cell_type": "code",
      "source": [
        "## build model for predictions\n",
        "class NewLinearRegressionModel(nn.Module):\n",
        "  def __init__(self):\n",
        "    super().__init__()\n",
        "\n",
        "    self.linear_layer = nn.Linear(in_features=1, out_features=1) # v2 code to prevent having to create\n",
        "    # bias and weight by ourselves as seen below\n",
        "\n",
        "    # self.weight = nn.Parameter(torch.randn(1, dtype=torch.float, requires_grad=True))\n",
        "    # self.bias = nn.Parameter(torch.randn(1, dtype=torch.float, requires_grad=True))\n",
        "\n",
        "  def forward(self, x: torch.Tensor) -> torch.Tensor:\n",
        "    return self.linear_layer(x)\n",
        "\n",
        "torch.manual_seed(42)\n",
        "model_v2 = NewLinearRegressionModel()\n",
        "model_v2.state_dict()\n",
        "\n"
      ],
      "metadata": {
        "colab": {
          "base_uri": "https://localhost:8080/"
        },
        "id": "H1EH_TB9MtJu",
        "outputId": "374e0dbc-22ca-4c22-d35a-ae913b3a4105"
      },
      "execution_count": null,
      "outputs": [
        {
          "output_type": "execute_result",
          "data": {
            "text/plain": [
              "OrderedDict([('linear_layer.weight', tensor([[0.7645]])),\n",
              "             ('linear_layer.bias', tensor([0.8300]))])"
            ]
          },
          "metadata": {},
          "execution_count": 25
        }
      ]
    },
    {
      "cell_type": "code",
      "source": [
        "model_v2.to(device)\n",
        "next(model_v2.parameters()).device"
      ],
      "metadata": {
        "colab": {
          "base_uri": "https://localhost:8080/"
        },
        "id": "2fHtfZGfRYqo",
        "outputId": "584b7fde-3917-4c78-ed06-097b2afc6bd5"
      },
      "execution_count": null,
      "outputs": [
        {
          "output_type": "execute_result",
          "data": {
            "text/plain": [
              "device(type='cuda', index=0)"
            ]
          },
          "metadata": {},
          "execution_count": 26
        }
      ]
    },
    {
      "cell_type": "code",
      "source": [
        "# training\n",
        "# loss function\n",
        "loss_fn = nn.L1Loss()\n",
        "\n",
        "# put data on the gpu\n",
        "X_test = X_test.to(device)\n",
        "y_test = y_test.to(device)\n",
        "X_train = X_train.to(device)\n",
        "y_train = y_train.to(device)\n",
        "\n",
        "# optimiser\n",
        "optimiser = torch.optim.SGD(params=model_v2.parameters(), lr=0.01)\n",
        "\n",
        "epochs = 200\n",
        "\n",
        "for epoch in range(epochs):\n",
        "\n",
        "  model_v2.train()\n",
        "\n",
        "  # F\n",
        "  y_preds = model_v2(X_train)\n",
        "  #L\n",
        "  loss = loss_fn(y_preds, y_train)\n",
        "  #O\n",
        "  optimiser.zero_grad()\n",
        "  #L\n",
        "  loss.backward()\n",
        "  #S\n",
        "  optimser.step()\n",
        "\n",
        "  ## testing loop\n",
        "  model_v2.eval()\n",
        "  with torch.inference_mode():\n",
        "    test_pred = model_v2(X_test)\n",
        "    test_loss = loss_fn(y_preds, y_train)\n",
        "\n",
        "    if epoch % 10 == 0:\n",
        "      print(f\"Epoch: {epoch}, loss: {loss}, Test Loss: {test_loss}\")\n",
        "\n",
        "model_v2.state_dict()"
      ],
      "metadata": {
        "id": "frTYz9_dSSUD",
        "colab": {
          "base_uri": "https://localhost:8080/"
        },
        "outputId": "77416c23-9f36-49af-b782-179826b7aec5"
      },
      "execution_count": null,
      "outputs": [
        {
          "output_type": "stream",
          "name": "stdout",
          "text": [
            "Epoch: 0, loss: 0.5551779866218567, Test Loss: 0.5551779866218567\n",
            "Epoch: 10, loss: 0.5551779866218567, Test Loss: 0.5551779866218567\n",
            "Epoch: 20, loss: 0.5551779866218567, Test Loss: 0.5551779866218567\n",
            "Epoch: 30, loss: 0.5551779866218567, Test Loss: 0.5551779866218567\n",
            "Epoch: 40, loss: 0.5551779866218567, Test Loss: 0.5551779866218567\n",
            "Epoch: 50, loss: 0.5551779866218567, Test Loss: 0.5551779866218567\n",
            "Epoch: 60, loss: 0.5551779866218567, Test Loss: 0.5551779866218567\n",
            "Epoch: 70, loss: 0.5551779866218567, Test Loss: 0.5551779866218567\n",
            "Epoch: 80, loss: 0.5551779866218567, Test Loss: 0.5551779866218567\n",
            "Epoch: 90, loss: 0.5551779866218567, Test Loss: 0.5551779866218567\n",
            "Epoch: 100, loss: 0.5551779866218567, Test Loss: 0.5551779866218567\n",
            "Epoch: 110, loss: 0.5551779866218567, Test Loss: 0.5551779866218567\n",
            "Epoch: 120, loss: 0.5551779866218567, Test Loss: 0.5551779866218567\n",
            "Epoch: 130, loss: 0.5551779866218567, Test Loss: 0.5551779866218567\n",
            "Epoch: 140, loss: 0.5551779866218567, Test Loss: 0.5551779866218567\n",
            "Epoch: 150, loss: 0.5551779866218567, Test Loss: 0.5551779866218567\n",
            "Epoch: 160, loss: 0.5551779866218567, Test Loss: 0.5551779866218567\n",
            "Epoch: 170, loss: 0.5551779866218567, Test Loss: 0.5551779866218567\n",
            "Epoch: 180, loss: 0.5551779866218567, Test Loss: 0.5551779866218567\n",
            "Epoch: 190, loss: 0.5551779866218567, Test Loss: 0.5551779866218567\n"
          ]
        },
        {
          "output_type": "execute_result",
          "data": {
            "text/plain": [
              "OrderedDict([('linear_layer.weight', tensor([[0.7645]], device='cuda:0')),\n",
              "             ('linear_layer.bias', tensor([0.8300], device='cuda:0'))])"
            ]
          },
          "metadata": {},
          "execution_count": 27
        }
      ]
    },
    {
      "cell_type": "code",
      "source": [
        "model_v2.eval()\n",
        "torch.manual_seed(42)\n",
        "with torch.inference_mode():\n",
        "  y_predictions = model_v2(X_test)\n",
        "y_predictions\n",
        "# plot_predictions(predictions=y_preds.cpu())"
      ],
      "metadata": {
        "colab": {
          "base_uri": "https://localhost:8080/"
        },
        "id": "DRWDVqiBVexW",
        "outputId": "6a42956c-d42f-4f6d-acc1-eb623c24f94b"
      },
      "execution_count": null,
      "outputs": [
        {
          "output_type": "execute_result",
          "data": {
            "text/plain": [
              "tensor([[1.4416],\n",
              "        [1.4569],\n",
              "        [1.4722],\n",
              "        [1.4875],\n",
              "        [1.5028],\n",
              "        [1.5181],\n",
              "        [1.5334],\n",
              "        [1.5487],\n",
              "        [1.5640],\n",
              "        [1.5793]], device='cuda:0')"
            ]
          },
          "metadata": {},
          "execution_count": 28
        }
      ]
    },
    {
      "cell_type": "code",
      "source": [
        "plot_predictions(predictions=test_pred.cpu())"
      ],
      "metadata": {
        "colab": {
          "base_uri": "https://localhost:8080/",
          "height": 577
        },
        "id": "A0ZGjV4igKiD",
        "outputId": "e114b8b4-0ad6-4615-bb42-63176b8cbaee"
      },
      "execution_count": null,
      "outputs": [
        {
          "output_type": "display_data",
          "data": {
            "text/plain": [
              "<Figure size 1000x700 with 1 Axes>"
            ],
            "image/png": "[encoded data removed]"
          },
          "metadata": {}
        }
      ]
    }
  ]
}